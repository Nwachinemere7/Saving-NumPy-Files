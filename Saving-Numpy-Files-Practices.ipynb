{
 "cells": [
  {
   "cell_type": "code",
   "execution_count": 34,
   "id": "1b5706fa",
   "metadata": {},
   "outputs": [],
   "source": [
    "import numpy as np"
   ]
  },
  {
   "cell_type": "markdown",
   "id": "ac0a8e80",
   "metadata": {},
   "source": [
    "Saving with \"np.save\" method"
   ]
  },
  {
   "cell_type": "code",
   "execution_count": 35,
   "id": "4c0eb1be",
   "metadata": {},
   "outputs": [
    {
     "name": "stdout",
     "output_type": "stream",
     "text": [
      "[['LoanID' 'StringID' 'Product' ... 'Location' 'Region' 'TotalPrice']\n",
      " ['1' 'id_1' 'Product B' ... 'Location 2' 'Region 2' '16600.0']\n",
      " ['2' 'id_2' 'Product B' ... 'Location 3' '' '16600.0']\n",
      " ...\n",
      " ['1041' 'id_1041' 'Product B' ... 'Location 23' 'Region 4' '16600.0']\n",
      " ['1042' 'id_1042' 'Product C' ... 'Location 52' 'Region 6' '15600.0']\n",
      " ['1043' 'id_1043' 'Product B' ... 'Location 142' 'Region 6' '16600.0']]\n"
     ]
    }
   ],
   "source": [
    "#importing the files nedded fot this practicse.\n",
    "\n",
    "lending_com = np.genfromtxt(\"Lending-Company-Saving.csv\", \n",
    "                            delimiter=\",\", \n",
    "                            dtype=str)\n",
    "print(lending_com)"
   ]
  },
  {
   "cell_type": "code",
   "execution_count": 36,
   "id": "2e8d2f71",
   "metadata": {},
   "outputs": [],
   "source": [
    "#using the np.save() method to save the file. \n",
    "np.save(\"Lending-Company-Saving\", lending_com)"
   ]
  },
  {
   "cell_type": "code",
   "execution_count": 37,
   "id": "d5e5eee8",
   "metadata": {},
   "outputs": [
    {
     "name": "stdout",
     "output_type": "stream",
     "text": [
      "[['LoanID' 'StringID' 'Product' ... 'Location' 'Region' 'TotalPrice']\n",
      " ['1' 'id_1' 'Product B' ... 'Location 2' 'Region 2' '16600.0']\n",
      " ['2' 'id_2' 'Product B' ... 'Location 3' '' '16600.0']\n",
      " ...\n",
      " ['1041' 'id_1041' 'Product B' ... 'Location 23' 'Region 4' '16600.0']\n",
      " ['1042' 'id_1042' 'Product C' ... 'Location 52' 'Region 6' '15600.0']\n",
      " ['1043' 'id_1043' 'Product B' ... 'Location 142' 'Region 6' '16600.0']]\n"
     ]
    }
   ],
   "source": [
    "#attaching a variable name to the new saved file.npy\n",
    "\n",
    "new_lending_com = np.load(\"Lending-Company-Saving.npy\")\n",
    "print(new_lending_com)"
   ]
  },
  {
   "cell_type": "code",
   "execution_count": 38,
   "id": "2cf80c00",
   "metadata": {},
   "outputs": [
    {
     "data": {
      "text/plain": [
       "True"
      ]
     },
     "execution_count": 38,
     "metadata": {},
     "output_type": "execute_result"
    }
   ],
   "source": [
    "#compaing the imported file.csv and the new saved file.npy\n",
    "#Returns True is the values are equal / same.\n",
    "\n",
    "np.array_equal(new_lending_com, lending_com)"
   ]
  },
  {
   "cell_type": "markdown",
   "id": "09c2ea50",
   "metadata": {},
   "source": [
    "Saving with \"np.savez\" method."
   ]
  },
  {
   "cell_type": "code",
   "execution_count": 39,
   "id": "6cc02e93",
   "metadata": {},
   "outputs": [],
   "source": [
    "#loading the file.csv to be used.\n",
    "\n",
    "lending_co = np.genfromtxt(\"Lending-Company-Saving.csv\", \n",
    "                           delimiter=\",\",\n",
    "                          dtype=str)"
   ]
  },
  {
   "cell_type": "code",
   "execution_count": 40,
   "id": "788ecedd",
   "metadata": {},
   "outputs": [],
   "source": [
    "#loading the second file.npy or other extension.\n",
    "#the np.savez() method stores files like an arcvive, so it stores more than 1 files.\n",
    "\n",
    "new_npy = np.load(\"Lending-Company-Saving.npy\")"
   ]
  },
  {
   "cell_type": "code",
   "execution_count": 41,
   "id": "f114ad5f",
   "metadata": {},
   "outputs": [],
   "source": [
    "#storing all this files using the np.savez() method.\n",
    "\n",
    "np.savez(\"Lending-Company-Saving\", lending_co, new_npy)"
   ]
  },
  {
   "cell_type": "code",
   "execution_count": 42,
   "id": "cc71a556",
   "metadata": {},
   "outputs": [],
   "source": [
    "lending_co_npz =np.load(\"Lending-Company-Saving.npz\")"
   ]
  },
  {
   "cell_type": "code",
   "execution_count": 43,
   "id": "c20a8255",
   "metadata": {},
   "outputs": [
    {
     "name": "stdout",
     "output_type": "stream",
     "text": [
      "[['LoanID' 'StringID' 'Product' ... 'Location' 'Region' 'TotalPrice']\n",
      " ['1' 'id_1' 'Product B' ... 'Location 2' 'Region 2' '16600.0']\n",
      " ['2' 'id_2' 'Product B' ... 'Location 3' '' '16600.0']\n",
      " ...\n",
      " ['1041' 'id_1041' 'Product B' ... 'Location 23' 'Region 4' '16600.0']\n",
      " ['1042' 'id_1042' 'Product C' ... 'Location 52' 'Region 6' '15600.0']\n",
      " ['1043' 'id_1043' 'Product B' ... 'Location 142' 'Region 6' '16600.0']]\n"
     ]
    }
   ],
   "source": [
    "#print with index number of the file. Since it is an archive with multiple files in it, we need to call the index value of the specific file to call.\n",
    "print(lending_co_npz['arr_0'])"
   ]
  },
  {
   "cell_type": "markdown",
   "id": "2b37c688",
   "metadata": {},
   "source": [
    "But we can also assign variables to the files in the files in archives since they can be more than 1 file."
   ]
  },
  {
   "cell_type": "code",
   "execution_count": 44,
   "id": "217dad87",
   "metadata": {},
   "outputs": [],
   "source": [
    "#here we give each file in the archive a variable name. which replaces using index values to call-out the file.\n",
    "np.savez(\"Lending-Company-Saving\", first_lending = lending_co, new_lending= new_npy)\n",
    "lending_co_npz = np.load(\"Lending-Company-Saving.npz\")"
   ]
  },
  {
   "cell_type": "code",
   "execution_count": 45,
   "id": "c201268e",
   "metadata": {},
   "outputs": [
    {
     "data": {
      "text/plain": [
       "['first_lending', 'new_lending']"
      ]
     },
     "execution_count": 45,
     "metadata": {},
     "output_type": "execute_result"
    }
   ],
   "source": [
    "#checking to see the files contained the archive.\n",
    "\n",
    "lending_co_npz.files"
   ]
  },
  {
   "cell_type": "code",
   "execution_count": 46,
   "id": "2ac47a8f",
   "metadata": {},
   "outputs": [
    {
     "name": "stdout",
     "output_type": "stream",
     "text": [
      "[['LoanID' 'StringID' 'Product' ... 'Location' 'Region' 'TotalPrice']\n",
      " ['1' 'id_1' 'Product B' ... 'Location 2' 'Region 2' '16600.0']\n",
      " ['2' 'id_2' 'Product B' ... 'Location 3' '' '16600.0']\n",
      " ...\n",
      " ['1041' 'id_1041' 'Product B' ... 'Location 23' 'Region 4' '16600.0']\n",
      " ['1042' 'id_1042' 'Product C' ... 'Location 52' 'Region 6' '15600.0']\n",
      " ['1043' 'id_1043' 'Product B' ... 'Location 142' 'Region 6' '16600.0']]\n",
      "[['LoanID' 'StringID' 'Product' ... 'Location' 'Region' 'TotalPrice']\n",
      " ['1' 'id_1' 'Product B' ... 'Location 2' 'Region 2' '16600.0']\n",
      " ['2' 'id_2' 'Product B' ... 'Location 3' '' '16600.0']\n",
      " ...\n",
      " ['1041' 'id_1041' 'Product B' ... 'Location 23' 'Region 4' '16600.0']\n",
      " ['1042' 'id_1042' 'Product C' ... 'Location 52' 'Region 6' '15600.0']\n",
      " ['1043' 'id_1043' 'Product B' ... 'Location 142' 'Region 6' '16600.0']]\n"
     ]
    }
   ],
   "source": [
    "#printing out eaching individual file in the archive.\n",
    "\n",
    "print(lending_co_npz['new_lending'])\n",
    "print(lending_co_npz['first_lending'])"
   ]
  },
  {
   "cell_type": "code",
   "execution_count": 47,
   "id": "a56848f5",
   "metadata": {},
   "outputs": [
    {
     "data": {
      "text/plain": [
       "True"
      ]
     },
     "execution_count": 47,
     "metadata": {},
     "output_type": "execute_result"
    }
   ],
   "source": [
    "#checking of files inside the file.npz are the same.\n",
    "\n",
    "np.array_equal(lending_co_npz[\"first_lending\"], lending_co_npz[\"new_lending\"])"
   ]
  },
  {
   "cell_type": "markdown",
   "id": "dbaf090a",
   "metadata": {},
   "source": [
    "Saving with the \"np.savetxt\" method."
   ]
  },
  {
   "cell_type": "code",
   "execution_count": 48,
   "id": "56217344",
   "metadata": {},
   "outputs": [],
   "source": [
    "#load the dataset needed for this exercise.\n",
    "\n",
    "lending_co = np.genfromtxt(\"Lending-Company-Saving.csv\",\n",
    "                          delimiter=\",\",\n",
    "                          dtype=str)\n",
    "#load the second dataset for testing if the files are similar. (not really important)\n",
    "lending_co_npy = np.load(\"Lending-Company-Saving.npy\")"
   ]
  },
  {
   "cell_type": "code",
   "execution_count": 52,
   "id": "d55011e7",
   "metadata": {},
   "outputs": [],
   "source": [
    "#stoer the new file.txt.\n",
    "np.savetxt(\"Lending-Company-Saving.txt\",\n",
    "           lending_co,\n",
    "           fmt=\"%s\",\n",
    "           delimiter=\",\")"
   ]
  },
  {
   "cell_type": "code",
   "execution_count": 53,
   "id": "232002e4",
   "metadata": {},
   "outputs": [
    {
     "name": "stdout",
     "output_type": "stream",
     "text": [
      "[['LoanID' 'StringID' 'Product' ... 'Location' 'Region' 'TotalPrice']\n",
      " ['1' 'id_1' 'Product B' ... 'Location 2' 'Region 2' '16600.0']\n",
      " ['2' 'id_2' 'Product B' ... 'Location 3' '' '16600.0']\n",
      " ...\n",
      " ['1041' 'id_1041' 'Product B' ... 'Location 23' 'Region 4' '16600.0']\n",
      " ['1042' 'id_1042' 'Product C' ... 'Location 52' 'Region 6' '15600.0']\n",
      " ['1043' 'id_1043' 'Product B' ... 'Location 142' 'Region 6' '16600.0']]\n"
     ]
    }
   ],
   "source": [
    "#load the stroed file.txt and print to see what it looks like.\n",
    "lending_co_txt = np.genfromtxt('Lending-Company-Saving.txt',\n",
    "                              delimiter=',',\n",
    "                              dtype=str)\n",
    "print(lending_co_txt)"
   ]
  },
  {
   "cell_type": "code",
   "execution_count": 54,
   "id": "b7d4e534",
   "metadata": {},
   "outputs": [
    {
     "data": {
      "text/plain": [
       "True"
      ]
     },
     "execution_count": 54,
     "metadata": {},
     "output_type": "execute_result"
    }
   ],
   "source": [
    "#compare it to the file.npy to see similairites. Trus.\n",
    "np.array_equal(lending_co_txt, lending_co_npy)"
   ]
  }
 ],
 "metadata": {
  "kernelspec": {
   "display_name": "Python 3 (ipykernel)",
   "language": "python",
   "name": "python3"
  },
  "language_info": {
   "codemirror_mode": {
    "name": "ipython",
    "version": 3
   },
   "file_extension": ".py",
   "mimetype": "text/x-python",
   "name": "python",
   "nbconvert_exporter": "python",
   "pygments_lexer": "ipython3",
   "version": "3.9.7"
  }
 },
 "nbformat": 4,
 "nbformat_minor": 5
}
